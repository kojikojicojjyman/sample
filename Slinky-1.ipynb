{
 "cells": [
  {
   "cell_type": "markdown",
   "metadata": {},
   "source": [
    "## スリンキーを非線形格子波動として数値計算する"
   ]
  },
  {
   "cell_type": "markdown",
   "metadata": {},
   "source": [
    "### その１〜初期配置の計算"
   ]
  },
  {
   "cell_type": "code",
   "execution_count": 1,
   "metadata": {},
   "outputs": [],
   "source": [
    "#グラフを描画するための宣言\n",
    "%matplotlib inline \n",
    "import matplotlib.pyplot as plt\n",
    "import numpy as np"
   ]
  },
  {
   "cell_type": "markdown",
   "metadata": {},
   "source": [
    "物体座標を$X$,空間座標を$x$、変位を$U$とすると、\n",
    "$$\n",
    "x=X+u\n",
    "$$\n",
    "変形勾配は\n",
    "$$ F=\\frac{\\partial x}{\\partial X}=1+\\frac{\\partial u}{\\partial X}$$\n",
    "である。\n",
    "連続の式＝質量保存則は$\\dot{m}=0$で\n",
    "$$\n",
    "m=\\int{\\rho_{0}}dX=\\int{\\rho}dx=\\int{\\rho}F dX\n",
    "$$\n",
    "だから\n",
    "$$\n",
    "F=\\frac{\\rho_{0}}{\\rho}\n",
    "$$\n",
    "であって、\n",
    "$$\n",
    "\\dot{\\rho}F+\\rho \\dot{F}=0\n",
    "$$\n",
    "である。ここで、\n",
    "$$\n",
    "\\dot{F}=\\frac{\\partial }{\\partial t}\\frac{\\partial }{\\partial X}(X+u)\n",
    "=\\frac{\\partial }{\\partial X}\\frac{\\partial }{\\partial t}(X+u)\n",
    "=\\frac{\\partial }{\\partial X}\\frac{\\partial u}{\\partial t}\n",
    "=\\frac{\\partial }{\\partial X}v\n",
    "$$\n",
    "であるから\n",
    "$$\n",
    "\\dot{\\rho}+\\frac{\\rho}{F}\\frac{\\partial }{\\partial X}v\n",
    "\\tag{1}$$\n",
    "これを物体表示での連続の式という"
   ]
  },
  {
   "cell_type": "markdown",
   "metadata": {},
   "source": [
    "物体座標でのひずみは、\n",
    "$$\n",
    "dx\\cdot dx' - dX\\cdot  dX'=FdX \\cdot F dX' - dX\\cdot dX' = dX \\cdot (F^2 -1)\\cdot dX' \\equiv dX \\cdot 2E \\cdot dX' \n",
    "$$\n",
    "と定義して、\n",
    "$$\n",
    "E=\\frac{1}{2}(F^2 -1)=\\frac{1}{2}\\left(\\left(1+ \\frac{\\partial u}{\\partial X}\\right)^2 -1\\right)\n",
    "\\tag{2}$$\n",
    "をGreen-Lagrangeひずみという。\n",
    "物体座標での応力は第１Piola–Kirchihoff応力テンソル$P$と第１Piola–Kirchihoff応力テンソル$S$があって、\n",
    "$P$が物体表示での運動方程式\n",
    "$$\n",
    "\\rho_{0}\\frac{\\partial v}{\\partial t}=\\frac{\\partial P}{\\partial X}+\\rho_{0}b\n",
    "\\tag{3}$$\n",
    "$S$が物体表示での構成式\n",
    "$$\n",
    "S=T(E)\n",
    "\\tag{4}$$\n",
    "で必要とされる。今回は$T$は線形な関数であると仮定して、\n",
    "$$\n",
    "S=GE\n",
    "\\tag{5}$$\n",
    "とする。$P$と$S$の関係は$P=SF$であるので、運動方程式は\n",
    "$$\n",
    "\\rho_{0}\\frac{\\partial v}{\\partial t}=G\\frac{\\partial }{\\partial X}(SF)+\\rho_{0}b = G\\frac{\\partial }{\\partial X} \\left(F \\frac{F^2-1}{2} \n",
    "\\right ) + \\rho_{0}b\n",
    "\\tag{6}$$\n",
    "となる。"
   ]
  },
  {
   "cell_type": "markdown",
   "metadata": {},
   "source": [
    "以上をまとめると、物体表示での基本となる式は\n",
    "$$\n",
    "x=X+u\\tag{定義1}$$\n",
    "$$ \n",
    "F=1+\\frac{\\partial u}{\\partial X}\\tag{定義2}$$\n",
    "$$\n",
    "\\rho=\\frac{\\rho_{0}}{F}\\tag{定義3}$$\n",
    "$$\n",
    "\\frac{\\partial F}{\\partial t}=\\frac{\\partial v}{\\partial X}\n",
    "\\tag{方程式1}$$\n",
    "$$\n",
    "\\rho_{0}\\frac{\\partial v}{\\partial t} =  G\\frac{\\partial }{\\partial X} \\left(F \\frac{F^2-1}{2} \n",
    "\\right ) + \\rho_{0}b\n",
    "\\tag{方程式2}$$\n",
    "の５つとなる。"
   ]
  },
  {
   "cell_type": "markdown",
   "metadata": {},
   "source": [
    "問題は、重力場でこの物体を上から吊り下げて静止させておいて、ある瞬間に手を離して落下するときの物体各点の運動を求めることである。\n",
    "数値計算で求めるので、方程式は離散化する必要がある。まず、空間を離散化した方程式を作る。これは、非線形バネでつながれた多数の質点の運動の問題に等しい。連続体の方程式を、変位に関する形にすれば\n",
    "$$\n",
    "\\rho_{0}\\frac{\\partial^2 u}{\\partial t^2}=\n",
    "G\\frac{\\partial }{\\partial X}\\left(  \\left(  \\frac{\\partial u}{\\partial X}\\right) + \\frac{3}{2}\\left( \\frac{\\partial u}{\\partial X}\\right)^2 + \\frac{1}{2}\\left( \\frac{\\partial u}{\\partial X}\\right)^3 \\right)  - \\rho_{0}g\n",
    "\\tag{方程式3}$$\n",
    "となる。これを、質点形のモデルにすると\n",
    "$$\n",
    "m\\ddot{q_n}=\n",
    "k\\left(  f(q_{n+1} - q_{n} ) - f(q_{n} - q_{n-1} )\\right)  - mg\n",
    "\\tag{4-1}$$\n",
    "$$\n",
    "f(r_n)=C+r_n+\\frac{3}{2}r_n^2+\\frac{1}{2}r_n^3 ,\\quad r_n=q_{n+1} -q_n\n",
    "\\tag{4-2}$$\n",
    "という形になる。バネの力での、相対変位の２乗や３乗の項が非線形性をあらわしている。ただしここで注意するのは、バネの力に任意の定数$C$が付いていることである。この項があっても、物体内部の運動方程式は変わらないのだが、  \n",
    "①この系のラグランジアンを考えた時に、ポテンシャルが$C$の値によって、停留値が１つだけか２つあるのかが変わる。  \n",
    "②境界条件は$C$の値に依存する。  \n",
    "こういう理由があるので、$C$の値をどうするかで結果は変わる。  \n",
    "今回は$C=-3$として計算することにする。\n",
    "$$\n",
    "f(r_n)=-3+r_n+\\frac{3}{2}r_n^2+\\frac{1}{2}r_n^3 ,\\quad r_n=q_{n+1} -q_n\n",
    "\\tag{5}$$\n",
    "上から吊り下げて停止している時には\n",
    "$$\n",
    "0=\n",
    " f(q_{2} - q_{1} ) - \\frac{mg}{k}\n",
    "\\tag{6-1}$$\n",
    "$$\n",
    "0= f(q_{n+1} - q_{n} ) - f(q_{n} - q_{n-1} ) - \\frac{mg}{k}\n",
    "\\tag{6-2}$$\n",
    "$$\n",
    "0= T - f(q_{N} - q_{N-1} ) - \\frac{mg}{k}\n",
    "\\tag{6-3}$$"
   ]
  },
  {
   "cell_type": "markdown",
   "metadata": {},
   "source": [
    "まず、練習で$g=0$の場合を計算してみる。$f(x)=Const.$の解を求めるのには、ニュートン法を使う。"
   ]
  },
  {
   "cell_type": "code",
   "execution_count": 2,
   "metadata": {},
   "outputs": [],
   "source": [
    "#3次方程式f(x)=Ax^3+Bx^2+Cx+D=0をニュートン法で解く\n",
    "def Newton(a,b,c,d):\n",
    "    x=-d/c\n",
    "    for i in range(10):\n",
    "        dx= -(a*x*x*x + b*x*x + c*x + d)/(3*a*x*x + 2*b*x + c*x)\n",
    "        x=x+dx\n",
    "        #\n",
    "    #\n",
    "    return x"
   ]
  },
  {
   "cell_type": "code",
   "execution_count": 3,
   "metadata": {},
   "outputs": [],
   "source": [
    "N=1000 #質点の数\n",
    "n=np.arange(1,N+1)"
   ]
  },
  {
   "cell_type": "code",
   "execution_count": 4,
   "metadata": {},
   "outputs": [
    {
     "data": {
      "text/plain": [
       "1000"
      ]
     },
     "execution_count": 4,
     "metadata": {},
     "output_type": "execute_result"
    }
   ],
   "source": [
    "n.size"
   ]
  },
  {
   "cell_type": "code",
   "execution_count": 5,
   "metadata": {},
   "outputs": [],
   "source": [
    "A= 1/2\n",
    "B= 3/2\n",
    "C= 1\n",
    "D= -3"
   ]
  },
  {
   "cell_type": "code",
   "execution_count": 6,
   "metadata": {},
   "outputs": [
    {
     "data": {
      "text/plain": [
       "1000"
      ]
     },
     "execution_count": 6,
     "metadata": {},
     "output_type": "execute_result"
    }
   ],
   "source": [
    "q=np.zeros(N)\n",
    "q.size"
   ]
  },
  {
   "cell_type": "code",
   "execution_count": 7,
   "metadata": {},
   "outputs": [
    {
     "data": {
      "text/plain": [
       "1000"
      ]
     },
     "execution_count": 7,
     "metadata": {},
     "output_type": "execute_result"
    }
   ],
   "source": [
    "r=np.zeros(N)\n",
    "r.size"
   ]
  },
  {
   "cell_type": "code",
   "execution_count": 8,
   "metadata": {},
   "outputs": [],
   "source": [
    "q[0]=0 #下端の値"
   ]
  },
  {
   "cell_type": "code",
   "execution_count": 9,
   "metadata": {},
   "outputs": [
    {
     "name": "stdout",
     "output_type": "stream",
     "text": [
      "T= 0\n"
     ]
    }
   ],
   "source": [
    "g=0 #重力はゼロとした\n",
    "for i in range(0,N-1):\n",
    "    r[i]=Newton(A,B,C,D-i*g)\n",
    "    q[i+1]=q[i]+r[i]\n",
    "#\n",
    "i=N-1\n",
    "r[i]=Newton(A,B,C,D-i*g)\n",
    "T=i*g\n",
    "print(\"T=\",T)"
   ]
  },
  {
   "cell_type": "code",
   "execution_count": 10,
   "metadata": {},
   "outputs": [
    {
     "data": {
      "image/png": "[encoded data removed]",
      "text/plain": [
       "<Figure size 432x288 with 1 Axes>"
      ]
     },
     "metadata": {
      "needs_background": "light"
     },
     "output_type": "display_data"
    },
    {
     "data": {
      "image/png": "[encoded data removed]",
      "text/plain": [
       "<Figure size 432x288 with 1 Axes>"
      ]
     },
     "metadata": {
      "needs_background": "light"
     },
     "output_type": "display_data"
    }
   ],
   "source": [
    "#グラフプロット\n",
    "plt.plot (n, r, 'o')\n",
    "plt.xlabel(\"n\",  fontsize=24)\n",
    "plt.ylabel(\"r[n]\",  fontsize=24)\n",
    "plt.show()\n",
    "plt.plot (n, q, 'o')\n",
    "plt.xlabel(\"n\",  fontsize=24)\n",
    "plt.ylabel(\"q[n]\",  fontsize=24)\n",
    "plt.show()"
   ]
  },
  {
   "cell_type": "code",
   "execution_count": 11,
   "metadata": {},
   "outputs": [
    {
     "name": "stdout",
     "output_type": "stream",
     "text": [
      "T= 999\n"
     ]
    }
   ],
   "source": [
    "g=1 #重力あり\n",
    "for i in range(0,N-1):\n",
    "    r[i]=Newton(A,B,C,D-i*g)\n",
    "    q[i+1]=q[i]+r[i]\n",
    "#\n",
    "i=N-1\n",
    "r[i]=Newton(A,B,C,D-i*g)\n",
    "T=i*g\n",
    "print(\"T=\",T)"
   ]
  },
  {
   "cell_type": "code",
   "execution_count": 12,
   "metadata": {},
   "outputs": [
    {
     "data": {
      "image/png": "[encoded data removed]",
      "text/plain": [
       "<Figure size 432x288 with 1 Axes>"
      ]
     },
     "metadata": {
      "needs_background": "light"
     },
     "output_type": "display_data"
    },
    {
     "data": {
      "image/png": "[encoded data removed]",
      "text/plain": [
       "<Figure size 432x288 with 1 Axes>"
      ]
     },
     "metadata": {
      "needs_background": "light"
     },
     "output_type": "display_data"
    }
   ],
   "source": [
    "#グラフプロット\n",
    "plt.plot (n, r, 'o')\n",
    "plt.xlabel(\"n\",  fontsize=24)\n",
    "plt.ylabel(\"r[n]\",  fontsize=24)\n",
    "plt.show()\n",
    "plt.plot (n, q, 'o')\n",
    "plt.xlabel(\"n\",  fontsize=24)\n",
    "plt.ylabel(\"q[n]\",  fontsize=24)\n",
    "plt.show()"
   ]
  },
  {
   "cell_type": "markdown",
   "metadata": {},
   "source": [
    "**重力場が非常に小さかったり、バネ定数が非常に大きければ、バネは均等に伸びは均一になる。特にバネ定数はあるが重力がない場合の結果には、「バネの自然長」が表れており、重力場のために下端の密度は濃く、上端の密度が薄く不均一な分布をなし、全体の長さは自然長の数倍にもなっている。**"
   ]
  },
  {
   "cell_type": "markdown",
   "metadata": {},
   "source": [
    "ただし、今計算した$q_n$は空間上の位置ではなくて変位である。あらためて空間上の位置を、重力のある時とない時両方を求めてグラフを書いておく。"
   ]
  },
  {
   "cell_type": "code",
   "execution_count": 13,
   "metadata": {},
   "outputs": [
    {
     "name": "stdout",
     "output_type": "stream",
     "text": [
      "T= 0\n"
     ]
    }
   ],
   "source": [
    "g=0 #重力はゼロとした\n",
    "for i in range(0,N-1):\n",
    "    r[i]=Newton(A,B,C,D-i*g)\n",
    "    q[i+1]=q[i]+r[i]\n",
    "#\n",
    "i=N-1\n",
    "r[i]=Newton(A,B,C,D-i*g)\n",
    "T=i*g\n",
    "print(\"T=\",T)"
   ]
  },
  {
   "cell_type": "code",
   "execution_count": 14,
   "metadata": {},
   "outputs": [
    {
     "data": {
      "image/png": "[encoded data removed]",
      "text/plain": [
       "<Figure size 432x288 with 1 Axes>"
      ]
     },
     "metadata": {
      "needs_background": "light"
     },
     "output_type": "display_data"
    }
   ],
   "source": [
    "#グラフプロット\n",
    "plt.plot (n, n+q, 'o')\n",
    "plt.xlabel(\"X\",  fontsize=24)\n",
    "plt.ylabel(\"x(X)\",  fontsize=24)\n",
    "plt.show()"
   ]
  },
  {
   "cell_type": "code",
   "execution_count": 15,
   "metadata": {},
   "outputs": [
    {
     "name": "stdout",
     "output_type": "stream",
     "text": [
      "T= 999\n"
     ]
    }
   ],
   "source": [
    "g=1 #重力あり\n",
    "for i in range(0,N-1):\n",
    "    r[i]=Newton(A,B,C,D-i*g)\n",
    "    q[i+1]=q[i]+r[i]\n",
    "#\n",
    "i=N-1\n",
    "r[i]=Newton(A,B,C,D-i*g)\n",
    "T=i*g\n",
    "print(\"T=\",T)"
   ]
  },
  {
   "cell_type": "code",
   "execution_count": 16,
   "metadata": {},
   "outputs": [
    {
     "data": {
      "image/png": "[encoded data removed]",
      "text/plain": [
       "<Figure size 432x288 with 1 Axes>"
      ]
     },
     "metadata": {
      "needs_background": "light"
     },
     "output_type": "display_data"
    }
   ],
   "source": [
    "#グラフプロット\n",
    "plt.plot (n, n+q, 'o')\n",
    "plt.xlabel(\"X\",  fontsize=24)\n",
    "plt.ylabel(\"x(X)\",  fontsize=24)\n",
    "plt.show()"
   ]
  }
 ],
 "metadata": {
  "kernelspec": {
   "display_name": "Python 3",
   "language": "python",
   "name": "python3"
  },
  "language_info": {
   "codemirror_mode": {
    "name": "ipython",
    "version": 3
   },
   "file_extension": ".py",
   "mimetype": "text/x-python",
   "name": "python",
   "nbconvert_exporter": "python",
   "pygments_lexer": "ipython3",
   "version": "3.7.3"
  }
 },
 "nbformat": 4,
 "nbformat_minor": 2
}
